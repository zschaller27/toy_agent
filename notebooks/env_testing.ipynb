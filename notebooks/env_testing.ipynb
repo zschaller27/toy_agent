{
 "cells": [
  {
   "cell_type": "code",
   "execution_count": 24,
   "metadata": {},
   "outputs": [],
   "source": [
    "import sys\n",
    "import pymdp.agent as a\n",
    "import pymdp.utils as utils\n",
    "from pymdp.control import construct_policies\n",
    "\n",
    "sys.path.insert(0, \"../\")\n",
    "from src.toy_agent.WorldEnviroment import WorldEnv\n",
    "from src.toy_agent.Grid import Grid\n",
    "from src.toy_agent.utils import *"
   ]
  },
  {
   "cell_type": "code",
   "execution_count": 25,
   "metadata": {},
   "outputs": [
    {
     "data": {
      "text/plain": [
       "((5, 5), 5, 0)"
      ]
     },
     "execution_count": 25,
     "metadata": {},
     "output_type": "execute_result"
    }
   ],
   "source": [
    "test_env = WorldEnv(Grid(\"../src/toy_agent/grids/test_grid.txt\"))\n",
    "A = test_env.get_likelihood_dist()\n",
    "B = test_env.get_transition_dist()\n",
    "A.shape, len(B), test_env.state"
   ]
  },
  {
   "cell_type": "code",
   "execution_count": 26,
   "metadata": {},
   "outputs": [
    {
     "data": {
      "image/png": "[encoded data removed]",
      "text/plain": [
       "<Figure size 432x432 with 1 Axes>"
      ]
     },
     "metadata": {
      "needs_background": "light"
     },
     "output_type": "display_data"
    }
   ],
   "source": [
    "plot_likelihood(A, xlabels=list(range(A.shape[0])), ylabels=list(range(A.shape[1])), title_str = \"A matrix or $P(o|s)$\")"
   ]
  },
  {
   "cell_type": "code",
   "execution_count": 27,
   "metadata": {},
   "outputs": [
    {
     "data": {
      "image/png": "[encoded data removed]",
      "text/plain": [
       "<Figure size 432x432 with 1 Axes>"
      ]
     },
     "metadata": {
      "needs_background": "light"
     },
     "output_type": "display_data"
    }
   ],
   "source": [
    "action_mat = B[:, :, 0]\n",
    "plot_likelihood(action_mat, xlabels=list(range(action_mat.shape[0])), ylabels=list(range(action_mat.shape[1])), title_str = \"B[\\\"UP\\\"]\")"
   ]
  },
  {
   "cell_type": "code",
   "execution_count": 53,
   "metadata": {},
   "outputs": [
    {
     "ename": "TypeError",
     "evalue": "object of type 'int' has no len()",
     "output_type": "error",
     "traceback": [
      "\u001b[1;31m---------------------------------------------------------------------------\u001b[0m",
      "\u001b[1;31mTypeError\u001b[0m                                 Traceback (most recent call last)",
      "\u001b[1;32m~\\AppData\\Local\\Temp/ipykernel_11492/3502613175.py\u001b[0m in \u001b[0;36m<module>\u001b[1;34m\u001b[0m\n\u001b[0;32m      1\u001b[0m \u001b[0mC\u001b[0m \u001b[1;33m=\u001b[0m \u001b[0mutils\u001b[0m\u001b[1;33m.\u001b[0m\u001b[0monehot\u001b[0m\u001b[1;33m(\u001b[0m\u001b[0mtest_env\u001b[0m\u001b[1;33m.\u001b[0m\u001b[0mmaze_grid\u001b[0m\u001b[1;33m.\u001b[0m\u001b[0mgetGoalState\u001b[0m\u001b[1;33m(\u001b[0m\u001b[1;33m)\u001b[0m\u001b[1;33m,\u001b[0m \u001b[0mtest_env\u001b[0m\u001b[1;33m.\u001b[0m\u001b[0mmaze_grid\u001b[0m\u001b[1;33m.\u001b[0m\u001b[0mgetNumStates\u001b[0m\u001b[1;33m(\u001b[0m\u001b[1;33m)\u001b[0m\u001b[1;33m)\u001b[0m\u001b[1;33m\u001b[0m\u001b[1;33m\u001b[0m\u001b[0m\n\u001b[1;32m----> 2\u001b[1;33m \u001b[0mC\u001b[0m \u001b[1;33m=\u001b[0m \u001b[0mutils\u001b[0m\u001b[1;33m.\u001b[0m\u001b[0mobj_array_uniform\u001b[0m\u001b[1;33m(\u001b[0m\u001b[0mtest_env\u001b[0m\u001b[1;33m.\u001b[0m\u001b[0mmaze_grid\u001b[0m\u001b[1;33m.\u001b[0m\u001b[0mgetNumStates\u001b[0m\u001b[1;33m(\u001b[0m\u001b[1;33m)\u001b[0m\u001b[1;33m)\u001b[0m\u001b[1;33m\u001b[0m\u001b[1;33m\u001b[0m\u001b[0m\n\u001b[0m\u001b[0;32m      3\u001b[0m \u001b[0mplot_beliefs\u001b[0m\u001b[1;33m(\u001b[0m\u001b[0mC\u001b[0m\u001b[1;33m,\u001b[0m \u001b[0mtitle_str\u001b[0m\u001b[1;33m=\u001b[0m\u001b[1;34m\"Preferences\"\u001b[0m\u001b[1;33m)\u001b[0m\u001b[1;33m\u001b[0m\u001b[1;33m\u001b[0m\u001b[0m\n",
      "\u001b[1;32md:\\Personal Projects\\toy_agent\\.venv\\lib\\site-packages\\pymdp\\utils.py\u001b[0m in \u001b[0;36mobj_array_uniform\u001b[1;34m(shape_list)\u001b[0m\n\u001b[0;32m     48\u001b[0m     \u001b[0mcan\u001b[0m \u001b[0meither\u001b[0m \u001b[0mbe\u001b[0m \u001b[0mtuples\u001b[0m \u001b[1;32mor\u001b[0m \u001b[0mlists\u001b[0m\u001b[1;33m.\u001b[0m\u001b[1;33m\u001b[0m\u001b[1;33m\u001b[0m\u001b[0m\n\u001b[0;32m     49\u001b[0m     \"\"\"\n\u001b[1;32m---> 50\u001b[1;33m     \u001b[0marr\u001b[0m \u001b[1;33m=\u001b[0m \u001b[0mobj_array\u001b[0m\u001b[1;33m(\u001b[0m\u001b[0mlen\u001b[0m\u001b[1;33m(\u001b[0m\u001b[0mshape_list\u001b[0m\u001b[1;33m)\u001b[0m\u001b[1;33m)\u001b[0m\u001b[1;33m\u001b[0m\u001b[1;33m\u001b[0m\u001b[0m\n\u001b[0m\u001b[0;32m     51\u001b[0m     \u001b[1;32mfor\u001b[0m \u001b[0mi\u001b[0m\u001b[1;33m,\u001b[0m \u001b[0mshape\u001b[0m \u001b[1;32min\u001b[0m \u001b[0menumerate\u001b[0m\u001b[1;33m(\u001b[0m\u001b[0mshape_list\u001b[0m\u001b[1;33m)\u001b[0m\u001b[1;33m:\u001b[0m\u001b[1;33m\u001b[0m\u001b[1;33m\u001b[0m\u001b[0m\n\u001b[0;32m     52\u001b[0m         \u001b[0marr\u001b[0m\u001b[1;33m[\u001b[0m\u001b[0mi\u001b[0m\u001b[1;33m]\u001b[0m \u001b[1;33m=\u001b[0m \u001b[0mnorm_dist\u001b[0m\u001b[1;33m(\u001b[0m\u001b[0mnp\u001b[0m\u001b[1;33m.\u001b[0m\u001b[0mones\u001b[0m\u001b[1;33m(\u001b[0m\u001b[0mshape\u001b[0m\u001b[1;33m)\u001b[0m\u001b[1;33m)\u001b[0m\u001b[1;33m\u001b[0m\u001b[1;33m\u001b[0m\u001b[0m\n",
      "\u001b[1;31mTypeError\u001b[0m: object of type 'int' has no len()"
     ]
    }
   ],
   "source": [
    "C = utils.onehot(test_env.maze_grid.getGoalState(), test_env.maze_grid.getNumStates())\n",
    "C = utils.obj_array_uniform(test_env.maze_grid.getNumStates())\n",
    "plot_beliefs(C, title_str=\"Preferences\")"
   ]
  },
  {
   "cell_type": "code",
   "execution_count": 54,
   "metadata": {},
   "outputs": [
    {
     "ename": "ValueError",
     "evalue": "The truth value of an array with more than one element is ambiguous. Use a.any() or a.all()",
     "output_type": "error",
     "traceback": [
      "\u001b[1;31m---------------------------------------------------------------------------\u001b[0m",
      "\u001b[1;31mValueError\u001b[0m                                Traceback (most recent call last)",
      "\u001b[1;32m~\\AppData\\Local\\Temp/ipykernel_11492/2784183283.py\u001b[0m in \u001b[0;36m<module>\u001b[1;34m\u001b[0m\n\u001b[0;32m      1\u001b[0m \u001b[0mD\u001b[0m \u001b[1;33m=\u001b[0m \u001b[0mutils\u001b[0m\u001b[1;33m.\u001b[0m\u001b[0monehot\u001b[0m\u001b[1;33m(\u001b[0m\u001b[0mtest_env\u001b[0m\u001b[1;33m.\u001b[0m\u001b[0mmaze_grid\u001b[0m\u001b[1;33m.\u001b[0m\u001b[0mgetStartLocation\u001b[0m\u001b[1;33m(\u001b[0m\u001b[1;33m)\u001b[0m\u001b[1;33m,\u001b[0m \u001b[0mtest_env\u001b[0m\u001b[1;33m.\u001b[0m\u001b[0mmaze_grid\u001b[0m\u001b[1;33m.\u001b[0m\u001b[0mgetNumStates\u001b[0m\u001b[1;33m(\u001b[0m\u001b[1;33m)\u001b[0m\u001b[1;33m)\u001b[0m\u001b[1;33m\u001b[0m\u001b[1;33m\u001b[0m\u001b[0m\n\u001b[0;32m      2\u001b[0m \u001b[0mD\u001b[0m \u001b[1;33m=\u001b[0m \u001b[0mutils\u001b[0m\u001b[1;33m.\u001b[0m\u001b[0mobj_array_uniform\u001b[0m\u001b[1;33m(\u001b[0m\u001b[1;33m[\u001b[0m\u001b[1;36m1\u001b[0m\u001b[1;33m,\u001b[0m \u001b[0mtest_env\u001b[0m\u001b[1;33m.\u001b[0m\u001b[0mmaze_grid\u001b[0m\u001b[1;33m.\u001b[0m\u001b[0mgetNumStates\u001b[0m\u001b[1;33m(\u001b[0m\u001b[1;33m)\u001b[0m\u001b[1;33m]\u001b[0m\u001b[1;33m)\u001b[0m\u001b[1;33m\u001b[0m\u001b[1;33m\u001b[0m\u001b[0m\n\u001b[1;32m----> 3\u001b[1;33m \u001b[0mplot_beliefs\u001b[0m\u001b[1;33m(\u001b[0m\u001b[0mD\u001b[0m\u001b[1;33m,\u001b[0m \u001b[0mtitle_str\u001b[0m\u001b[1;33m=\u001b[0m\u001b[1;34m\"Start Location\"\u001b[0m\u001b[1;33m)\u001b[0m\u001b[1;33m\u001b[0m\u001b[1;33m\u001b[0m\u001b[0m\n\u001b[0m",
      "\u001b[1;32md:\\Personal Projects\\toy_agent\\notebooks\\..\\src\\toy_agent\\utils.py\u001b[0m in \u001b[0;36mplot_beliefs\u001b[1;34m(belief_dist, title_str)\u001b[0m\n\u001b[0;32m     44\u001b[0m     \"\"\"\n\u001b[0;32m     45\u001b[0m \u001b[1;33m\u001b[0m\u001b[0m\n\u001b[1;32m---> 46\u001b[1;33m     \u001b[1;32mif\u001b[0m \u001b[1;32mnot\u001b[0m \u001b[0mnp\u001b[0m\u001b[1;33m.\u001b[0m\u001b[0misclose\u001b[0m\u001b[1;33m(\u001b[0m\u001b[0mbelief_dist\u001b[0m\u001b[1;33m.\u001b[0m\u001b[0msum\u001b[0m\u001b[1;33m(\u001b[0m\u001b[1;33m)\u001b[0m\u001b[1;33m,\u001b[0m \u001b[1;36m1.0\u001b[0m\u001b[1;33m)\u001b[0m\u001b[1;33m:\u001b[0m\u001b[1;33m\u001b[0m\u001b[1;33m\u001b[0m\u001b[0m\n\u001b[0m\u001b[0;32m     47\u001b[0m       \u001b[1;32mraise\u001b[0m \u001b[0mValueError\u001b[0m\u001b[1;33m(\u001b[0m\u001b[1;34m\"Distribution not normalized! Please normalize\"\u001b[0m\u001b[1;33m)\u001b[0m\u001b[1;33m\u001b[0m\u001b[1;33m\u001b[0m\u001b[0m\n\u001b[0;32m     48\u001b[0m \u001b[1;33m\u001b[0m\u001b[0m\n",
      "\u001b[1;31mValueError\u001b[0m: The truth value of an array with more than one element is ambiguous. Use a.any() or a.all()"
     ]
    }
   ],
   "source": [
    "D = utils.onehot(test_env.maze_grid.getStartLocation(), test_env.maze_grid.getNumStates())\n",
    "D = utils.obj_array_uniform(test_env.maze_grid.getNumStates())\n",
    "plot_beliefs(D, title_str=\"Start Location\")"
   ]
  },
  {
   "cell_type": "code",
   "execution_count": null,
   "metadata": {},
   "outputs": [],
   "source": [
    "def run_active_inference_loop(my_agent : a.Agent, my_env, T = 5):\n",
    "\n",
    "  \"\"\" Initialize the first observation \"\"\"\n",
    "  obs = [my_env.state]\n",
    "  \n",
    "  for t in range(T):\n",
    "    qs = my_agent.infer_states(obs)\n",
    "    plot_beliefs(qs[0], title_str = f\"Beliefs about the context at time {t}\")\n",
    "\n",
    "    q_pi, efe = my_agent.infer_policies()\n",
    "\n",
    "    print(q_pi, efe)\n",
    "\n",
    "    chosen_action_id = my_agent.sample_action()\n",
    "\n",
    "    print(chosen_action_id)\n",
    "\n",
    "    for action in my_env.actions.keys():\n",
    "        if my_env.actions[action] == chosen_action_id:\n",
    "            choice_action = action\n",
    "            break\n",
    "\n",
    "    obs = [my_env.step(action)]\n",
    "\n",
    "    print(f'Action at time {t}: {choice_action}')"
   ]
  },
  {
   "cell_type": "code",
   "execution_count": null,
   "metadata": {},
   "outputs": [
    {
     "data": {
      "image/png": "[encoded data removed]",
      "text/plain": [
       "<Figure size 432x288 with 1 Axes>"
      ]
     },
     "metadata": {
      "needs_background": "light"
     },
     "output_type": "display_data"
    },
    {
     "name": "stdout",
     "output_type": "stream",
     "text": [
      "[0.00097656 0.00097656 0.00097656 ... 0.00097656 0.00097656 0.00097656] [-9.52416165 -9.52416165 -9.52416165 ... -9.52416165 -9.52416165\n",
      " -9.52416165]\n",
      "[0.]\n",
      "Action at time 0: UP\n"
     ]
    },
    {
     "data": {
      "image/png": "[encoded data removed]",
      "text/plain": [
       "<Figure size 432x288 with 1 Axes>"
      ]
     },
     "metadata": {
      "needs_background": "light"
     },
     "output_type": "display_data"
    },
    {
     "name": "stdout",
     "output_type": "stream",
     "text": [
      "[0.00097656 0.00097656 0.00097656 ... 0.00097656 0.00097656 0.00097656] [-9.52416165 -9.52416165 -9.52416165 ... -9.52416165 -9.52416165\n",
      " -9.52416165]\n",
      "[0.]\n",
      "Action at time 1: UP\n"
     ]
    },
    {
     "data": {
      "image/png": "[encoded data removed]",
      "text/plain": [
       "<Figure size 432x288 with 1 Axes>"
      ]
     },
     "metadata": {
      "needs_background": "light"
     },
     "output_type": "display_data"
    },
    {
     "name": "stdout",
     "output_type": "stream",
     "text": [
      "[0.00097656 0.00097656 0.00097656 ... 0.00097656 0.00097656 0.00097656] [-9.52416165 -9.52416165 -9.52416165 ... -9.52416165 -9.52416165\n",
      " -9.52416165]\n",
      "[0.]\n",
      "Action at time 2: UP\n"
     ]
    },
    {
     "data": {
      "image/png": "[encoded data removed]",
      "text/plain": [
       "<Figure size 432x288 with 1 Axes>"
      ]
     },
     "metadata": {
      "needs_background": "light"
     },
     "output_type": "display_data"
    },
    {
     "name": "stdout",
     "output_type": "stream",
     "text": [
      "[0.00097656 0.00097656 0.00097656 ... 0.00097656 0.00097656 0.00097656] [-9.52416165 -9.52416165 -9.52416165 ... -9.52416165 -9.52416165\n",
      " -9.52416165]\n",
      "[0.]\n",
      "Action at time 3: UP\n"
     ]
    },
    {
     "data": {
      "image/png": "[encoded data removed]",
      "text/plain": [
       "<Figure size 432x288 with 1 Axes>"
      ]
     },
     "metadata": {
      "needs_background": "light"
     },
     "output_type": "display_data"
    },
    {
     "name": "stdout",
     "output_type": "stream",
     "text": [
      "[0.00097656 0.00097656 0.00097656 ... 0.00097656 0.00097656 0.00097656] [-9.52416165 -9.52416165 -9.52416165 ... -9.52416165 -9.52416165\n",
      " -9.52416165]\n",
      "[0.]\n",
      "Action at time 4: UP\n"
     ]
    },
    {
     "data": {
      "image/png": "[encoded data removed]",
      "text/plain": [
       "<Figure size 432x288 with 1 Axes>"
      ]
     },
     "metadata": {
      "needs_background": "light"
     },
     "output_type": "display_data"
    },
    {
     "name": "stdout",
     "output_type": "stream",
     "text": [
      "[0.00097656 0.00097656 0.00097656 ... 0.00097656 0.00097656 0.00097656] [-9.52416165 -9.52416165 -9.52416165 ... -9.52416165 -9.52416165\n",
      " -9.52416165]\n",
      "[0.]\n",
      "Action at time 5: UP\n"
     ]
    }
   ],
   "source": [
    "agent = a.Agent(A=A, B=B, C=C, D=D, policy_len=5)\n",
    "test_env.reset()\n",
    "run_active_inference_loop(agent, test_env, 6)"
   ]
  },
  {
   "cell_type": "code",
   "execution_count": null,
   "metadata": {},
   "outputs": [
    {
     "name": "stdout",
     "output_type": "stream",
     "text": [
      "[2. 0. 0.]\n"
     ]
    }
   ],
   "source": [
    "num_obs = [3, 5] # observation modality dimensions\n",
    "num_states = [3, 2, 2] # hidden state factor dimensions\n",
    "num_controls = [3, 1, 1] # control state factor dimensions\n",
    "A_matrix = utils.random_A_matrix(num_obs, num_states) # create sensory likelihood (A matrix)\n",
    "B_matrix = utils.random_B_matrix(num_states, num_controls) # create transition likelihood (B matrix)\n",
    "\n",
    "C_vector = utils.obj_array_uniform(num_obs) # uniform preferences\n",
    "\n",
    "# instantiate a quick agent using your A, B and C arrays\n",
    "my_agent = a.Agent( A = A_matrix, B = B_matrix, C = C_vector)\n",
    "\n",
    "# give the agent a random observation and get the optimized posterior beliefs\n",
    "\n",
    "observation = [1, 4] # a list specifying the indices of the observation, for each observation modality\n",
    "\n",
    "qs = my_agent.infer_states(observation) # get posterior over hidden states (a multi-factor belief)\n",
    "\n",
    "# Do active inference\n",
    "\n",
    "q_pi, neg_efe = my_agent.infer_policies() # return the policy posterior and return (negative) expected free energies of each policy as well\n",
    "\n",
    "action = my_agent.sample_action() # sample an action\n",
    "\n",
    "print(action)"
   ]
  }
 ],
 "metadata": {
  "interpreter": {
   "hash": "8ec8e7abe0d00ed2b7222ad7090928c947a0a63554214315e63aa703def487d8"
  },
  "kernelspec": {
   "display_name": "Python 3.9.5 64-bit",
   "language": "python",
   "name": "python3"
  },
  "language_info": {
   "codemirror_mode": {
    "name": "ipython",
    "version": 3
   },
   "file_extension": ".py",
   "mimetype": "text/x-python",
   "name": "python",
   "nbconvert_exporter": "python",
   "pygments_lexer": "ipython3",
   "version": "3.9.5"
  },
  "orig_nbformat": 4
 },
 "nbformat": 4,
 "nbformat_minor": 2
}
